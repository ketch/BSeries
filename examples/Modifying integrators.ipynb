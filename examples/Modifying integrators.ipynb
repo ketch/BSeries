{
 "cells": [
  {
   "cell_type": "markdown",
   "id": "9d93b68a",
   "metadata": {},
   "source": [
    "In this notebook, we use the package [`bseries.py`](https://github.com/ketch/bseries) to derive modifying integrators for certain Runge-Kutta methods applied to first-order ODEs, and study how well the solution of the truncated equations approximates the exact solution."
   ]
  },
  {
   "cell_type": "code",
   "execution_count": null,
   "id": "75c2aa03",
   "metadata": {},
   "outputs": [],
   "source": [
    "import numpy as np\n",
    "from BSeries import trees, bs\n",
    "import matplotlib.pyplot as plt\n",
    "from nodepy import rk, ivp\n",
    "from IPython.display import display, Math\n",
    "import sympy\n",
    "from sympy import symbols, simplify, lambdify, dsolve, Eq, Function\n",
    "from sympy import Derivative as D\n",
    "from sympy.abc import t\n",
    "cf = trees.canonical_forest\n",
    "one = sympy.Rational(1)\n",
    "from sympy import sin\n",
    "from scipy.integrate import solve_ivp\n",
    "h = sympy.Symbol('h')"
   ]
  },
  {
   "cell_type": "markdown",
   "id": "baae1fb0",
   "metadata": {},
   "source": [
    "# Rigid body Euler equations"
   ]
  },
  {
   "cell_type": "markdown",
   "id": "51545e26",
   "metadata": {},
   "source": [
    "Here we reproduce the first example from CHV2007.  First we set up the system of 3 ODEs corresponding to the rigid body problem (CHV2007 eqn. (9)):"
   ]
  },
  {
   "cell_type": "code",
   "execution_count": null,
   "id": "cbe9adae",
   "metadata": {},
   "outputs": [],
   "source": [
    "from sympy.abc import alpha, beta, gamma\n",
    "from sympy.abc import x, y, z\n",
    "y = [symbols('y%d' % i) for i in range(1,4)]\n",
    "\n",
    "u = [y[0],y[1],y[2]]\n",
    "u"
   ]
  },
  {
   "cell_type": "code",
   "execution_count": null,
   "id": "36a6f75c",
   "metadata": {},
   "outputs": [],
   "source": [
    "f = np.array([alpha*y[1]*y[2],beta*y[2]*y[0],gamma*y[0]*y[1]])\n",
    "for rhs in f:\n",
    "    display(rhs)"
   ]
  },
  {
   "cell_type": "markdown",
   "id": "396366e4",
   "metadata": {},
   "source": [
    "We will derive a modifying integrator ODE system for the implicit midpoint method."
   ]
  },
  {
   "cell_type": "code",
   "execution_count": null,
   "id": "4f8ebf95",
   "metadata": {},
   "outputs": [],
   "source": [
    "# Implicit Midpoint Method\n",
    "A = np.array([[one/2]])\n",
    "b = np.array([one])"
   ]
  },
  {
   "cell_type": "code",
   "execution_count": null,
   "id": "ac221806",
   "metadata": {},
   "outputs": [],
   "source": [
    "series = bs.modifying_integrator(u, f, A, b, order=5)\n",
    "simplify(series)"
   ]
  },
  {
   "cell_type": "markdown",
   "id": "9f8e920f",
   "metadata": {},
   "source": [
    "We can verify that the results match Eqn. (12) of CHV2007:"
   ]
  },
  {
   "cell_type": "code",
   "execution_count": null,
   "id": "0f8597c9",
   "metadata": {},
   "outputs": [],
   "source": [
    "s3 = sympy.Poly((series[0]-f[0])/(f[0]),h).coeffs()[1]\n",
    "s3"
   ]
  },
  {
   "cell_type": "code",
   "execution_count": null,
   "id": "d1e59c6c",
   "metadata": {},
   "outputs": [],
   "source": [
    "s5 = sympy.Poly((series[0]-f[0])/(f[0]),h).coeffs()[0]\n",
    "simplify(s5 - 6*one/5*s3**2)"
   ]
  },
  {
   "cell_type": "markdown",
   "id": "883df827",
   "metadata": {},
   "source": [
    "# Lotka-Volterra"
   ]
  },
  {
   "cell_type": "markdown",
   "id": "1f56c549",
   "metadata": {},
   "source": [
    "Next we consider using the explicit Euler method to solve the Lotka-Volterra model:\n",
    "\n",
    "$$\n",
    "    p'(t) = (2-q)p \\quad \\quad q'(t)=(p-1)q.\n",
    "$$"
   ]
  },
  {
   "cell_type": "code",
   "execution_count": null,
   "id": "78ea4e10",
   "metadata": {},
   "outputs": [],
   "source": [
    "p, q = symbols('p,q')\n",
    "u = [p,q]\n",
    "f = np.array([p*(2-q),q*(p-1)])\n",
    "\n",
    "FE1 = rk.loadRKM('FE')\n",
    "\n",
    "dt = 0.35\n",
    "T = 15.\n",
    "IC = [1.5,2.25]\n",
    "\n",
    "f_ = lambdify([p,q],f)\n",
    "\n",
    "def f_vec(t,u):\n",
    "    return f_(*u)\n",
    "\n",
    "myivp = ivp.IVP(f=f_vec,u0=np.array(IC),T=T)\n",
    "t0, y0 = FE1(myivp,dt=dt)\n",
    "y0 = np.array(y0)\n",
    "\n",
    "f_ex = lambdify([p,q],f)\n",
    "\n",
    "def f_vec(t,u):\n",
    "    return f_ex(*u)\n",
    "\n",
    "myivp = ivp.IVP(f=f_vec,u0=np.array(IC),T=T)\n",
    "BS5 = rk.loadRKM('BS5')\n",
    "\n",
    "t, y = BS5(myivp,errtol=1.e-10,dt=1.e-3)\n",
    "y_exact = np.array(y)"
   ]
  },
  {
   "cell_type": "markdown",
   "id": "2bdf4196",
   "metadata": {},
   "source": [
    "The exact solution of this problem is periodic, but Euler's method produces an unstable trajectory.  Here we use an especially large timestep in order to more clearly illustrate what will follow, but the qualitative behavior is the same for any step size."
   ]
  },
  {
   "cell_type": "code",
   "execution_count": null,
   "id": "f7bfbb22",
   "metadata": {},
   "outputs": [],
   "source": [
    "plt.figure(figsize=(9,6))\n",
    "plt.plot(y_exact[:,1],y_exact[:,0],'-k',lw=2)\n",
    "plt.plot(y0[:,1],y0[:,0],'--b')\n",
    "plt.xlim(0,4)\n",
    "plt.ylim(0,2.5)\n",
    "plt.legend(['Exact solution','Explicit Euler, dt=0.1'],fontsize=15);"
   ]
  },
  {
   "cell_type": "markdown",
   "id": "be8b4bdc",
   "metadata": {},
   "source": [
    "Now we will derive a \"modifying integrator\".  What this means is that we will determine a perturbed RHS such that when Euler's method is applied to the perturbed RHS, the result is the exact solution to the original Lotka-Volterra system.  The perturbed system takes the form of a power series in $h$, and in order to compute with it we will truncate it at a certain order.  We can compare the accuracy (and qualitative behavior) obtained by truncating at different orders."
   ]
  },
  {
   "cell_type": "code",
   "execution_count": null,
   "id": "b3c499d1",
   "metadata": {},
   "outputs": [],
   "source": [
    "A = FE1.A\n",
    "b = FE1.b\n",
    "max_order = 4\n",
    "series = bs.modifying_integrator(u, f, A, b, order=max_order)\n",
    "simplify(series)"
   ]
  },
  {
   "cell_type": "code",
   "execution_count": null,
   "id": "ac94c153",
   "metadata": {},
   "outputs": [],
   "source": [
    "ymod = []\n",
    "for order in range(2,max_order+1):\n",
    "    fs = simplify(np.array([term.series(h,0,order).removeO() for term in series]))\n",
    "    f_ = lambdify([p,q,h],fs)\n",
    "\n",
    "    def f_p_vec(t,u,h=dt):\n",
    "        return f_(*u,h)\n",
    "\n",
    "    myivp = ivp.IVP(f=f_p_vec,u0=np.array(IC),T=T)\n",
    "    _, y1 = FE1(myivp,dt=dt)\n",
    "    ymod.append(np.array(y1))"
   ]
  },
  {
   "cell_type": "code",
   "execution_count": null,
   "id": "6753d1e3",
   "metadata": {},
   "outputs": [],
   "source": [
    "colors = 'rgc'\n",
    "plt.figure(figsize=(9,6))\n",
    "plt.plot(y_exact[:,1],y_exact[:,0],'-k',lw=2)\n",
    "plt.plot(y0[:,1],y0[:,0],'--b')\n",
    "for j in range(max_order-1):\n",
    "    plt.plot(ymod[j][:,1],ymod[j][:,0],'--'+colors[j],lw=3,alpha=0.5)\n",
    "plt.xlim(0,4)\n",
    "plt.ylim(0,2.5)\n",
    "plt.legend(['Exact solution','Explicit Euler, dt='+str(dt),\n",
    "            'EE with modified flow to O(h)',\n",
    "           'EE with modified flow to $O(h^2)$',\n",
    "           'EE with modified flow to $O(h^3)$'],fontsize=15);"
   ]
  },
  {
   "cell_type": "markdown",
   "id": "37408ecf",
   "metadata": {},
   "source": [
    "We see that if we include one additional term, the resulting trajectory still grows, while with two additional terms the solution appears to be dissipative.  With each additional term the solution gets closer to the exact solution of the original problem, and with three added terms it is hard to see the difference between them at this scale."
   ]
  }
 ],
 "metadata": {
  "kernelspec": {
   "display_name": "Python 3",
   "language": "python",
   "name": "python3"
  },
  "language_info": {
   "codemirror_mode": {
    "name": "ipython",
    "version": 3
   },
   "file_extension": ".py",
   "mimetype": "text/x-python",
   "name": "python",
   "nbconvert_exporter": "python",
   "pygments_lexer": "ipython3",
   "version": "3.9.5"
  }
 },
 "nbformat": 4,
 "nbformat_minor": 5
}
