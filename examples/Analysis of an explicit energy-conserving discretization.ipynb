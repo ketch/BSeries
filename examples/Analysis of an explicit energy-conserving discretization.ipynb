{
 "cells": [
  {
   "cell_type": "code",
   "execution_count": null,
   "metadata": {},
   "outputs": [],
   "source": [
    "import numpy as np\n",
    "import matplotlib.pyplot as plt\n",
    "from sympy import symbols, simplify, lambdify, dsolve, Eq, Function\n",
    "import sympy\n",
    "one = sympy.Rational(1)\n",
    "from BSeries import bs\n",
    "from scipy.integrate import solve_ivp\n",
    "from nodepy import rk, ivp\n",
    "\n",
    "h = sympy.Symbol('h')"
   ]
  },
  {
   "cell_type": "markdown",
   "metadata": {},
   "source": [
    "As described in [this notebook](https://nbviewer.jupyter.org/gist/ketch/de14e33acabce66fd0bda2b979b5d16f) and [this paper](https://epubs.siam.org/doi/abs/10.1137/19M1290346), when the explicit 2-stage midpoint Runge-Kutta method is applied to the nonlinear oscillator problem\n",
    "\n",
    "$$\n",
    "\\begin{bmatrix} p \\\\ q \\end{bmatrix} = \\frac{1}{p^2 + q^2}\\begin{bmatrix} -q \\\\ p \\end{bmatrix}\n",
    "$$\n",
    "\n",
    "the numerical solution energy $E=u^2+v^2$ is constant regardless of the step size.  Here we use the method of modified equations to get some insight into this behavior."
   ]
  },
  {
   "cell_type": "markdown",
   "metadata": {},
   "source": [
    "First, we set up the right hand side of the ODE system:"
   ]
  },
  {
   "cell_type": "code",
   "execution_count": null,
   "metadata": {},
   "outputs": [],
   "source": [
    "p, q = symbols('p,q')\n",
    "u = [p,q]\n",
    "f = np.array([-u[1]/(u[0]**2+u[1]**2), u[0]/(u[0]**2+u[1]**2)])\n",
    "IC = [1.,0.]\n",
    "simplify(f)"
   ]
  },
  {
   "cell_type": "markdown",
   "metadata": {},
   "source": [
    "and the midpoint Runge-Kutta method coefficients:"
   ]
  },
  {
   "cell_type": "code",
   "execution_count": null,
   "metadata": {},
   "outputs": [],
   "source": [
    "# Runge's Method\n",
    "A = np.array([[0,0],[one/2,0]])\n",
    "b = np.array([0,one])"
   ]
  },
  {
   "cell_type": "markdown",
   "metadata": {},
   "source": [
    "Now we generate the modified equation.  This is a differential equation that is satisfied exactly by the numerical solution.  In principle it is in an infinite series (in the step size $h$), so we must truncate it at some order."
   ]
  },
  {
   "cell_type": "code",
   "execution_count": null,
   "metadata": {},
   "outputs": [],
   "source": [
    "series = bs.modified_equation(u, f, A, b, order=5)\n",
    "series = simplify(series)"
   ]
  },
  {
   "cell_type": "code",
   "execution_count": null,
   "metadata": {},
   "outputs": [],
   "source": [
    "series"
   ]
  },
  {
   "cell_type": "markdown",
   "metadata": {},
   "source": [
    "As expected for a 2nd-order method, the modified equations contain no terms of order $h$.  Notice that in this case, there are also no terms of order $h^3$.  In fact, because of the symmetry of this method, only even powers of $h$ will appear in the modified equations."
   ]
  },
  {
   "cell_type": "markdown",
   "metadata": {},
   "source": [
    "Next we will solve the modified equations directly and compare with the exact solution.  We consider the modified equations truncated to different orders in $h$."
   ]
  },
  {
   "cell_type": "code",
   "execution_count": null,
   "metadata": {},
   "outputs": [],
   "source": [
    "dt = 1.\n",
    "T = 20\n",
    "N=1000\n",
    "f = simplify(np.array([term.series(h,0,1).removeO() for term in series]))\n",
    "\n",
    "def solve_truncated_modified_equations(order,dt):\n",
    "    f = simplify(np.array([term.series(h,0,order+1).removeO() for term in series]))\n",
    "    f_ = lambdify([p,q,h],f)\n",
    "    \n",
    "    def f_p_vec(t,u,h=dt):\n",
    "        return f_(*u,h)\n",
    "\n",
    "    soln = solve_ivp(f_p_vec,[0,T],IC,t_eval=np.linspace(0,T,N),rtol=1.e-12,atol=1.e-12,method='RK45')\n",
    "\n",
    "    return soln.t, soln.y\n",
    "\n",
    "tt = []\n",
    "yy = []\n",
    "for order in range(5):\n",
    "    t, y = solve_truncated_modified_equations(order,dt=dt)\n",
    "    tt.append(t)\n",
    "    yy.append(y)\n",
    "    \n",
    "rk2 = rk.ExplicitRungeKuttaMethod(A,b)\n",
    "\n",
    "f_ex = lambdify([p,q],f)\n",
    "f_ex(0.,1.)\n",
    "\n",
    "def f_vec(t,u):\n",
    "    return f_ex(*u)\n",
    "\n",
    "\n",
    "myivp = ivp.IVP(f=f_vec,u0=np.array(IC),T=T)\n",
    "\n",
    "t_rk2, y = rk2(myivp,dt=dt)\n",
    "y = np.array(y)\n",
    "y_rk2 = y[:,0]\n",
    "\n",
    "plt.figure(figsize=(16,12))\n",
    "\n",
    "plt.plot(t_rk2,y_rk2,'o')\n",
    "for i in [0,2,4]:\n",
    "    plt.plot(tt[i],yy[i][0,:],'--')\n",
    "\n",
    "plt.legend(['RK2']+['$O(h^'+str(p)+')$' for p in [0,2,4]],fontsize=20)"
   ]
  },
  {
   "cell_type": "markdown",
   "metadata": {},
   "source": [
    "As expected, we see that including more terms in the modified equations yields a solution that is accurate to longer times.  But what is remarkable is that all solutions of the modified equations (like the numerical solution from the RK method itself) seem to be indeed periodic.  This suggests that the truncated modified equations are energy-conserving at every order.  Let's check this by looking more closely at the modified equations."
   ]
  },
  {
   "cell_type": "markdown",
   "metadata": {},
   "source": [
    "First, we generate the modified equations to a higher order than before; this may take a few minutes if you are running the notebook yourself.  Then we extract the numerator and denominator of each of the series."
   ]
  },
  {
   "cell_type": "code",
   "execution_count": null,
   "metadata": {},
   "outputs": [],
   "source": [
    "series = bs.modified_equation(u, f, A, b, order=7)\n",
    "series = simplify(series)\n",
    "series"
   ]
  },
  {
   "cell_type": "code",
   "execution_count": null,
   "metadata": {},
   "outputs": [],
   "source": [
    "rhs_p=simplify(series[0])\n",
    "numerator_p = rhs_p.as_numer_denom()[0]\n",
    "denominator_p = sympy.factor(rhs_p.as_numer_denom()[1])\n",
    "rhs_q=simplify(series[1])\n",
    "numerator_q = rhs_q.as_numer_denom()[0]\n",
    "denominator_q = sympy.factor(rhs_q.as_numer_denom()[1])"
   ]
  },
  {
   "cell_type": "markdown",
   "metadata": {},
   "source": [
    "Next, we loop over the terms (by powers of $h$) and simplify (symbolically) the ratios:"
   ]
  },
  {
   "cell_type": "code",
   "execution_count": null,
   "metadata": {},
   "outputs": [],
   "source": [
    "Numer_p = sympy.Poly(numerator_p,h)\n",
    "coeffs = Numer_p.all_coeffs()[::-1]\n",
    "series_p = 0\n",
    "for j, coeff in enumerate(coeffs):\n",
    "    series_p += h**j*sympy.factor(coeff)/denominator_p\n",
    "series_p"
   ]
  },
  {
   "cell_type": "markdown",
   "metadata": {},
   "source": [
    "These are the terms in the right-hand side for $p'(t)$; we see that all the odd orders of $h$ vanish identically due to the symmetry of the midpoint method.  Meanwhile, the even order terms have a simple structure that is obvious except for the values of the coefficients appearing in each denominator.\n",
    "\n",
    "This is just to double-check that the manipulations above actually gave us back the correct right-hand side:"
   ]
  },
  {
   "cell_type": "code",
   "execution_count": null,
   "metadata": {},
   "outputs": [],
   "source": [
    "simplify(series_p - rhs_p)"
   ]
  },
  {
   "cell_type": "markdown",
   "metadata": {},
   "source": [
    "We can simplify the right-hand side series for $q$ in the same way, and find a complementary structure:"
   ]
  },
  {
   "cell_type": "code",
   "execution_count": null,
   "metadata": {},
   "outputs": [],
   "source": [
    "Numer_q = sympy.Poly(numerator_q,h)\n",
    "coeffs = Numer_q.all_coeffs()[::-1]\n",
    "series_q = 0\n",
    "for j, coeff in enumerate(coeffs):\n",
    "    series_q += h**j*sympy.factor(coeff)/denominator_q\n",
    "series_q"
   ]
  },
  {
   "cell_type": "markdown",
   "metadata": {},
   "source": [
    "We conjecture that the modified equation for this numerical solution has the form\n",
    "\n",
    "$$\n",
    "\\begin{bmatrix} p'(t) \\\\ q'(t) \\end{bmatrix} = \\sum_{j=0}^\\infty \\alpha_j \\frac{(ih)^j}{(p^2+q^2)^{j+1}} \\begin{bmatrix} -q \\\\ p \\end{bmatrix}.\n",
    "$$"
   ]
  },
  {
   "cell_type": "markdown",
   "metadata": {},
   "source": [
    "Since each term of the series on the RHS is energy-conservative, the full modified equation is energy-conservative."
   ]
  },
  {
   "cell_type": "markdown",
   "metadata": {},
   "source": [
    "**Open problem 1**: Use the theory of B-series to prove the above conjecture, possibly also giving a formula for the coefficients $\\alpha_j$."
   ]
  },
  {
   "cell_type": "markdown",
   "metadata": {},
   "source": [
    "**Open problem 2**: Find another combination of ODE system and explicit Runge-Kutta method (or other B-series integrator) that yields a modified equation with this kind of structure?  I.e., find another example of unconditionally stable explicit integration?\n",
    "\n",
    "Note that for unconditional stability, is not necessary that each term in the modified equation be orthogonal to the vector $[p,q]$; it only needs to have non-positive inner product with that vector."
   ]
  }
 ],
 "metadata": {
  "kernelspec": {
   "display_name": "Python 3",
   "language": "python",
   "name": "python3"
  },
  "language_info": {
   "codemirror_mode": {
    "name": "ipython",
    "version": 3
   },
   "file_extension": ".py",
   "mimetype": "text/x-python",
   "name": "python",
   "nbconvert_exporter": "python",
   "pygments_lexer": "ipython3",
   "version": "3.9.5"
  },
  "toc": {
   "base_numbering": 1,
   "nav_menu": {},
   "number_sections": true,
   "sideBar": true,
   "skip_h1_title": false,
   "title_cell": "Table of Contents",
   "title_sidebar": "Contents",
   "toc_cell": false,
   "toc_position": {},
   "toc_section_display": true,
   "toc_window_display": false
  }
 },
 "nbformat": 4,
 "nbformat_minor": 2
}
