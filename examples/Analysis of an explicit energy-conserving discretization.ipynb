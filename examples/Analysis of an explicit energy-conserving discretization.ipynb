{
 "cells": [
  {
   "cell_type": "code",
   "execution_count": null,
   "metadata": {},
   "outputs": [],
   "source": [
    "import numpy as np\n",
    "from sympy import symbols, simplify\n",
    "import sympy\n",
    "one = sympy.Rational(1)\n",
    "from BSeries import bs\n",
    "h = sympy.Symbol('h')"
   ]
  },
  {
   "cell_type": "code",
   "execution_count": null,
   "metadata": {},
   "outputs": [],
   "source": [
    "p, q = symbols('p,q')\n",
    "u = [p,q]\n",
    "f = np.array([-u[1]/(u[0]**2+u[1]**2), u[0]/(u[0]**2+u[1]**2)])\n",
    "IC = [1.,0.]\n",
    "simplify(f)"
   ]
  },
  {
   "cell_type": "code",
   "execution_count": null,
   "metadata": {},
   "outputs": [],
   "source": [
    "# Runge's Method\n",
    "A = np.array([[0,0],[one/2,0]])\n",
    "b = np.array([0,one])\n",
    "\n",
    "\n",
    "series = bs.modified_equation(u, f, A, b, order=7)\n",
    "series = simplify(series)"
   ]
  },
  {
   "cell_type": "code",
   "execution_count": null,
   "metadata": {},
   "outputs": [],
   "source": [
    "series"
   ]
  },
  {
   "cell_type": "code",
   "execution_count": null,
   "metadata": {},
   "outputs": [],
   "source": [
    "term0=simplify(series[0])\n",
    "numer0 = term0.as_numer_denom()[0]\n",
    "denom0 = sympy.factor(term0.as_numer_denom()[1])\n",
    "term1=simplify(series[1])\n",
    "numer1 = term1.as_numer_denom()[0]\n",
    "denom1 = term1.as_numer_denom()[1]"
   ]
  },
  {
   "cell_type": "code",
   "execution_count": null,
   "metadata": {},
   "outputs": [],
   "source": [
    "test = sympy.Poly(numer0,h)\n",
    "coeffs = test.all_coeffs()[::-1]\n",
    "expr = 0\n",
    "for j, coeff in enumerate(coeffs):\n",
    "    display(h**j*sympy.factor(coeff)/denom0)\n",
    "    expr += h**j*sympy.factor(coeff)/denom0"
   ]
  },
  {
   "cell_type": "code",
   "execution_count": null,
   "metadata": {},
   "outputs": [],
   "source": [
    "expr"
   ]
  },
  {
   "cell_type": "code",
   "execution_count": null,
   "metadata": {},
   "outputs": [],
   "source": [
    "simplify(expr - term0)"
   ]
  },
  {
   "cell_type": "code",
   "execution_count": null,
   "metadata": {},
   "outputs": [],
   "source": [
    "rhs = []\n",
    "for term in series:\n",
    "    numer, denom = term.as_numer_denom()\n",
    "    denom = sympy.factor(denom)\n",
    "    P = sympy.Poly(numer,h)\n",
    "    coeffs = P.all_coeffs()[::-1]\n",
    "    expr = 0\n",
    "    for j, coeff in enumerate(coeffs):\n",
    "        expr += h**j*sympy.factor(coeff)/denom0\n",
    "    rhs.append(expr)\n",
    "    \n",
    "rhs = simplify(np.array(rhs))\n",
    "simplify(rhs-series)"
   ]
  },
  {
   "cell_type": "code",
   "execution_count": null,
   "metadata": {},
   "outputs": [],
   "source": [
    "rhs"
   ]
  },
  {
   "cell_type": "code",
   "execution_count": null,
   "metadata": {},
   "outputs": [],
   "source": []
  }
 ],
 "metadata": {
  "kernelspec": {
   "display_name": "Python 3",
   "language": "python",
   "name": "python3"
  },
  "language_info": {
   "codemirror_mode": {
    "name": "ipython",
    "version": 3
   },
   "file_extension": ".py",
   "mimetype": "text/x-python",
   "name": "python",
   "nbconvert_exporter": "python",
   "pygments_lexer": "ipython3",
   "version": "3.6.5"
  },
  "toc": {
   "base_numbering": 1,
   "nav_menu": {},
   "number_sections": true,
   "sideBar": true,
   "skip_h1_title": false,
   "title_cell": "Table of Contents",
   "title_sidebar": "Contents",
   "toc_cell": false,
   "toc_position": {},
   "toc_section_display": true,
   "toc_window_display": false
  }
 },
 "nbformat": 4,
 "nbformat_minor": 2
}
