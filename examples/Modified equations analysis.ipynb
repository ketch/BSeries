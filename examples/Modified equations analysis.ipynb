{
 "cells": [
  {
   "cell_type": "markdown",
   "metadata": {},
   "source": [
    "In this notebook, we use the package [`bseries.py`](https://github.com/ketch/bseries) to derive modified equations for certain Runge-Kutta methods applied to first-order ODEs, and study how well the solution of the modified equations approximates the numerical solution."
   ]
  },
  {
   "cell_type": "code",
   "execution_count": null,
   "metadata": {},
   "outputs": [],
   "source": [
    "import numpy as np\n",
    "from BSeries import trees, bs\n",
    "import matplotlib.pyplot as plt\n",
    "from nodepy import rk, ivp\n",
    "from IPython.display import display, Math\n",
    "import sympy\n",
    "from sympy import symbols, simplify, lambdify, dsolve, Eq, Function\n",
    "from sympy import Derivative as D\n",
    "from sympy.abc import t\n",
    "cf = trees.canonical_forest\n",
    "one = sympy.Rational(1)\n",
    "from sympy import sin\n",
    "from scipy.integrate import solve_ivp\n",
    "h = sympy.Symbol('h')"
   ]
  },
  {
   "cell_type": "markdown",
   "metadata": {},
   "source": [
    "# Lotka-Volterra"
   ]
  },
  {
   "cell_type": "markdown",
   "metadata": {},
   "source": [
    "Here we reproduce the example from p. 340 of the book *Geometric Numerical Integration* (Hairer, Lubich, & Wanner), using the explicit Euler method to solve the Lotka-Volterra model:\n",
    "\n",
    "$$\n",
    "    p'(t) = (2-q)p \\quad \\quad q'(t)=(p-1)q.\n",
    "$$\n",
    "\n",
    "First we define the model:"
   ]
  },
  {
   "cell_type": "code",
   "execution_count": null,
   "metadata": {},
   "outputs": [],
   "source": [
    "p, q = symbols('p,q')\n",
    "u = [p,q]\n",
    "f = np.array([p*(2-q),q*(p-1)])"
   ]
  },
  {
   "cell_type": "markdown",
   "metadata": {},
   "source": [
    "Next, we load the coefficients of the method and generate the modified equations as a B-series:"
   ]
  },
  {
   "cell_type": "code",
   "execution_count": null,
   "metadata": {},
   "outputs": [],
   "source": [
    "FE1 = rk.loadRKM('FE')\n",
    "\n",
    "A = FE1.A\n",
    "b = FE1.b\n",
    "\n",
    "series = bs.modified_equation(u, f, A, b, order=2)\n",
    "simplify(series)"
   ]
  },
  {
   "cell_type": "markdown",
   "metadata": {},
   "source": [
    "The numerical solution of the LV model by the explicit Euler method is the exact solution to a system of *modified differential equations*; this system can be expressed as a power series in the step size $h$.  Here we have derived the right had side of that system up to terms of order $h$.  Notice that if we drop the $O(h)$ terms then we have again the original LV system."
   ]
  },
  {
   "cell_type": "markdown",
   "metadata": {},
   "source": [
    "We can check that the $O(h)$ terms match what is given in HLW:"
   ]
  },
  {
   "cell_type": "code",
   "execution_count": null,
   "metadata": {},
   "outputs": [],
   "source": [
    "-sympy.expand(simplify(series[0]+p*(q-2))*2/(h*p))"
   ]
  },
  {
   "cell_type": "code",
   "execution_count": null,
   "metadata": {},
   "outputs": [],
   "source": [
    "-simplify(series[1]-q*(p-1))*2/(h*q)"
   ]
  },
  {
   "cell_type": "markdown",
   "metadata": {},
   "source": [
    "Next, we'll solve the modified equations very accurately and compare the result with the numerical solution given by the explicit Euler method with step size $h=0.1$."
   ]
  },
  {
   "cell_type": "code",
   "execution_count": null,
   "metadata": {},
   "outputs": [],
   "source": [
    "dt = 0.1\n",
    "T = 15.\n",
    "IC = [1.5,2.25]\n",
    "\n",
    "fs = simplify(np.array([term.series(h,0,2).removeO() for term in series]))\n",
    "f_ = lambdify([p,q,h],fs)\n",
    "\n",
    "def f_p_vec(t,u,h=dt):\n",
    "    return f_(*u,h)\n",
    "\n",
    "soln = solve_ivp(f_p_vec,[0,T],IC,t_eval=np.linspace(0,T,1000),rtol=1.e-12,atol=1.e-12,method='RK45')\n",
    "\n",
    "t1, y1 = soln.t, soln.y"
   ]
  },
  {
   "cell_type": "code",
   "execution_count": null,
   "metadata": {},
   "outputs": [],
   "source": [
    "f_ex = lambdify([p,q],f)\n",
    "\n",
    "def f_vec(t,u):\n",
    "    return f_ex(*u)\n",
    "\n",
    "\n",
    "myivp = ivp.IVP(f=f_vec,u0=np.array(IC),T=T)\n",
    "\n",
    "t, y = FE1(myivp,dt=dt)\n",
    "y = np.array(y)"
   ]
  },
  {
   "cell_type": "code",
   "execution_count": null,
   "metadata": {},
   "outputs": [],
   "source": [
    "plt.figure(figsize=(9,6))\n",
    "plt.plot(y[:,1],y[:,0],'o')\n",
    "plt.plot(y1[1,:],y1[0,:],'--k')\n",
    "plt.xlim(0,9)\n",
    "plt.ylim(0,5.5)\n",
    "plt.legend(['Explicit Euler, dt=0.1','Modified flow to O(h)'],fontsize=15)"
   ]
  },
  {
   "cell_type": "markdown",
   "metadata": {},
   "source": [
    "The exact solution of the LV model is periodic, but Euler's method generates a solution with growing amplitude.  The modified equations accurately predict this.\n",
    "\n",
    "Now we go to the next order."
   ]
  },
  {
   "cell_type": "code",
   "execution_count": null,
   "metadata": {},
   "outputs": [],
   "source": [
    "series = bs.modified_equation(u, f, A, b, order=3)\n",
    "simplify(series)"
   ]
  },
  {
   "cell_type": "code",
   "execution_count": null,
   "metadata": {},
   "outputs": [],
   "source": [
    "dt = 0.12\n",
    "T = 14.5\n",
    "IC = [1.,2.75]\n",
    "\n",
    "fs = simplify(np.array([term.series(h,0,2).removeO() for term in series]))\n",
    "f_ = lambdify([p,q,h],fs)\n",
    "def f_p_vec(t,u,h=dt):\n",
    "    return f_(*u,h)\n",
    "soln = solve_ivp(f_p_vec,[0,T],IC,t_eval=np.linspace(0,T,1000),rtol=1.e-12,atol=1.e-12,method='RK45')\n",
    "t1, y1 = soln.t, soln.y\n",
    "\n",
    "fs = simplify(np.array([term.series(h,0,3).removeO() for term in series]))\n",
    "f_ = lambdify([p,q,h],fs)\n",
    "def f_p_vec(t,u,h=dt):\n",
    "    return f_(*u,h)\n",
    "soln = solve_ivp(f_p_vec,[0,T],IC,t_eval=np.linspace(0,T,1000),rtol=1.e-12,atol=1.e-12,method='RK45')\n",
    "t2, y2 = soln.t, soln.y\n",
    "\n",
    "f_ex = lambdify([p,q],f)\n",
    "\n",
    "def f_vec(t,u):\n",
    "    return f_ex(*u)\n",
    "\n",
    "\n",
    "myivp = ivp.IVP(f=f_vec,u0=np.array(IC),T=T)\n",
    "\n",
    "t, y = FE1(myivp,dt=dt)\n",
    "y = np.array(y)"
   ]
  },
  {
   "cell_type": "code",
   "execution_count": null,
   "metadata": {},
   "outputs": [],
   "source": [
    "plt.figure(figsize=(9,6))\n",
    "plt.plot(y[:,1],y[:,0],'o')\n",
    "plt.plot(y1[1,:],y1[0,:],'--')\n",
    "plt.plot(y2[1,:],y2[0,:],'--k')\n",
    "plt.xlim(0,9)\n",
    "plt.ylim(0,5.5)\n",
    "plt.legend(['Explicit Euler, dt=0.12','Modified flow to $O(h)$','Modified flow to $O(h^2)$'],fontsize=15);"
   ]
  },
  {
   "cell_type": "markdown",
   "metadata": {},
   "source": [
    "Using a larger step size, we see that the 1st-order modified equations are not fully accurate, but by including the $O(h^2)$ terms we get much better accuracy at late times.\n",
    "\n",
    "Let's keep going."
   ]
  },
  {
   "cell_type": "code",
   "execution_count": null,
   "metadata": {},
   "outputs": [],
   "source": [
    "series = bs.modified_equation(u, f, A, b, order=4)\n",
    "simplify(series)"
   ]
  },
  {
   "cell_type": "code",
   "execution_count": null,
   "metadata": {},
   "outputs": [],
   "source": [
    "dt = 0.2\n",
    "T = 10.\n",
    "IC = [1.,2.75]\n",
    "\n",
    "fs = simplify(np.array([term.series(h,0,2).removeO() for term in series]))\n",
    "f_ = lambdify([p,q,h],fs)\n",
    "def f_p_vec(t,u,h=dt):\n",
    "    return f_(*u,h)\n",
    "soln = solve_ivp(f_p_vec,[0,T],IC,t_eval=np.linspace(0,T,1000),rtol=1.e-12,atol=1.e-12,method='RK45')\n",
    "t1, y1 = soln.t, soln.y\n",
    "\n",
    "fs = simplify(np.array([term.series(h,0,3).removeO() for term in series]))\n",
    "f_ = lambdify([p,q,h],fs)\n",
    "def f_p_vec(t,u,h=dt):\n",
    "    return f_(*u,h)\n",
    "soln = solve_ivp(f_p_vec,[0,T],IC,t_eval=np.linspace(0,T,1000),rtol=1.e-12,atol=1.e-12,method='RK45')\n",
    "t2, y2 = soln.t, soln.y\n",
    "\n",
    "fs = simplify(np.array([term.series(h,0,4).removeO() for term in series]))\n",
    "f_ = lambdify([p,q,h],fs)\n",
    "def f_p_vec(t,u,h=dt):\n",
    "    return f_(*u,h)\n",
    "soln = solve_ivp(f_p_vec,[0,T],IC,t_eval=np.linspace(0,T,1000),rtol=1.e-12,atol=1.e-12,method='RK45')\n",
    "t3, y3 = soln.t, soln.y\n",
    "\n",
    "\n",
    "\n",
    "f_ex = lambdify([p,q],f)\n",
    "\n",
    "def f_vec(t,u):\n",
    "    return f_ex(*u)\n",
    "\n",
    "\n",
    "myivp = ivp.IVP(f=f_vec,u0=np.array(IC),T=T)\n",
    "\n",
    "t, y = FE1(myivp,dt=dt)\n",
    "y = np.array(y)"
   ]
  },
  {
   "cell_type": "code",
   "execution_count": null,
   "metadata": {},
   "outputs": [],
   "source": [
    "plt.figure(figsize=(9,6))\n",
    "plt.plot(y[:,1],y[:,0],'o')\n",
    "plt.plot(y1[1,:],y1[0,:],'--')\n",
    "plt.plot(y2[1,:],y2[0,:],'--')\n",
    "plt.plot(y3[1,:],y3[0,:],'--k')\n",
    "plt.xlim(0,15)\n",
    "plt.ylim(-0.5,6.5)\n",
    "plt.legend(['Explicit Euler, dt='+str(dt),'Modified flow to $O(h)$','Modified flow to $O(h^2)$','Modified flow to $O(h^3)$'],fontsize=15)"
   ]
  },
  {
   "cell_type": "markdown",
   "metadata": {},
   "source": [
    "Again, with a larger step size we see that additional terms are needed to obtain good accuracy at later times."
   ]
  },
  {
   "cell_type": "code",
   "execution_count": null,
   "metadata": {},
   "outputs": [],
   "source": [
    "series = bs.modified_equation(u, f, A, b, order=7)\n",
    "simplify(series)"
   ]
  },
  {
   "cell_type": "code",
   "execution_count": null,
   "metadata": {},
   "outputs": [],
   "source": [
    "dt = 0.1\n",
    "T = 66.4\n",
    "IC = [1.,2.01]\n",
    "N = 3000\n",
    "fs = simplify(np.array([term.series(h,0,2).removeO() for term in series]))\n",
    "f_ = lambdify([p,q,h],fs)\n",
    "def f_p_vec(t,u,h=dt):\n",
    "    return f_(*u,h)\n",
    "soln = solve_ivp(f_p_vec,[0,T],IC,t_eval=np.linspace(0,T,N),rtol=1.e-12,atol=1.e-12,method='RK45')\n",
    "t1, y1 = soln.t, soln.y\n",
    "\n",
    "fs = simplify(np.array([term.series(h,0,3).removeO() for term in series]))\n",
    "f_ = lambdify([p,q,h],fs)\n",
    "def f_p_vec(t,u,h=dt):\n",
    "    return f_(*u,h)\n",
    "soln = solve_ivp(f_p_vec,[0,T],IC,t_eval=np.linspace(0,T,N),rtol=1.e-12,atol=1.e-12,method='RK45')\n",
    "t2, y2 = soln.t, soln.y\n",
    "\n",
    "fs = simplify(np.array([term.series(h,0,4).removeO() for term in series]))\n",
    "f_ = lambdify([p,q,h],fs)\n",
    "def f_p_vec(t,u,h=dt):\n",
    "    return f_(*u,h)\n",
    "soln = solve_ivp(f_p_vec,[0,T],IC,t_eval=np.linspace(0,T,N),rtol=1.e-12,atol=1.e-12,method='RK45')\n",
    "t3, y3 = soln.t, soln.y\n",
    "\n",
    "fs = simplify(np.array([term.series(h,0,7).removeO() for term in series]))\n",
    "f_ = lambdify([p,q,h],fs)\n",
    "def f_p_vec(t,u,h=dt):\n",
    "    return f_(*u,h)\n",
    "soln = solve_ivp(f_p_vec,[0,T],IC,t_eval=np.linspace(0,T,N),rtol=1.e-12,atol=1.e-12,method='RK45')\n",
    "t5, y5 = soln.t, soln.y\n",
    "\n",
    "\n",
    "f_ex = lambdify([p,q],f)\n",
    "\n",
    "def f_vec(t,u):\n",
    "    return f_ex(*u)\n",
    "\n",
    "\n",
    "myivp = ivp.IVP(f=f_vec,u0=np.array(IC),T=T)\n",
    "\n",
    "t, y = FE1(myivp,dt=dt)\n",
    "y = np.array(y)"
   ]
  },
  {
   "cell_type": "code",
   "execution_count": null,
   "metadata": {},
   "outputs": [],
   "source": [
    "plt.figure(figsize=(9,6))\n",
    "plt.plot(y[:,1],y[:,0],'o')\n",
    "plt.plot(y1[1,:],y1[0,:],'--')\n",
    "plt.plot(y2[1,:],y2[0,:],'--')\n",
    "plt.plot(y3[1,:],y3[0,:],'--')\n",
    "plt.plot(y5[1,:],y5[0,:],'--k')\n",
    "plt.xlim(-0.5,18)\n",
    "plt.ylim(-0.5,11.5)\n",
    "plt.legend(['Explicit Euler, dt='+str(dt),'Modified flow to $O(h)$','Modified flow to $O(h^2)$',\n",
    "            'Modified flow to $O(h^3)$','Modified flow to $O(h^6)$'],fontsize=15);"
   ]
  },
  {
   "cell_type": "markdown",
   "metadata": {},
   "source": [
    "Here we have gone all the way up to the $O(h)^6$ terms and we continue to get improved accuracy for long times."
   ]
  },
  {
   "cell_type": "markdown",
   "metadata": {},
   "source": [
    "# Pendulum"
   ]
  },
  {
   "cell_type": "markdown",
   "metadata": {},
   "source": [
    "Next we consider another simple first-order system of two equations that models a rigid frictionless pendulum (see e.g. p. 4 of HLW)."
   ]
  },
  {
   "cell_type": "code",
   "execution_count": null,
   "metadata": {},
   "outputs": [],
   "source": [
    "f = np.array([-sin(u[1]),u[0]])\n",
    "IC = [1.,0.]\n",
    "simplify(f)"
   ]
  },
  {
   "cell_type": "markdown",
   "metadata": {},
   "source": [
    "This time we'll consider a more accurate numerical method: a 3-stage, 3rd-order Runge-Kutta method."
   ]
  },
  {
   "cell_type": "code",
   "execution_count": null,
   "metadata": {},
   "outputs": [],
   "source": [
    "rk3 = rk.loadRKM('SSP33')\n",
    "A = rk3.A\n",
    "b = rk3.b\n",
    "\n",
    "series = bs.modified_equation(u, f, A, b, order=6)\n",
    "simplify(series)"
   ]
  },
  {
   "cell_type": "markdown",
   "metadata": {},
   "source": [
    "Notice that the modified equations (which we have derived up to order $h^5$) include no correction terms of order $h$ or $h^2$.  This is true because the method chosen is 3rd-order accurate.\n",
    "\n",
    "Again, we compare a highly-accurate solution of the modified equations with the approximate solution of the original problem obtained using the Runge-Kutta method."
   ]
  },
  {
   "cell_type": "code",
   "execution_count": null,
   "metadata": {},
   "outputs": [],
   "source": [
    "dt = 1.05\n",
    "T = 20\n",
    "N=1000"
   ]
  },
  {
   "cell_type": "code",
   "execution_count": null,
   "metadata": {},
   "outputs": [],
   "source": [
    "def solve_truncated_modified_equations(order,dt):\n",
    "    f = simplify(np.array([term.series(h,0,order+1).removeO() for term in series]))\n",
    "    f_ = lambdify([p,q,h],f)\n",
    "    \n",
    "    def f_p_vec(t,u,h=dt):\n",
    "        return f_(*u,h)\n",
    "\n",
    "    soln = solve_ivp(f_p_vec,[0,T],IC,t_eval=np.linspace(0,T,N),rtol=1.e-12,atol=1.e-12,method='RK45')\n",
    "\n",
    "    return soln.t, soln.y\n",
    "\n",
    "tt = []\n",
    "yy = []\n",
    "for order in range(7):\n",
    "    t, y = solve_truncated_modified_equations(order,dt=dt)\n",
    "    tt.append(t)\n",
    "    yy.append(y)"
   ]
  },
  {
   "cell_type": "code",
   "execution_count": null,
   "metadata": {},
   "outputs": [],
   "source": [
    "f_ex = lambdify([p,q],f)\n",
    "f_ex(0.,1.)\n",
    "\n",
    "def f_vec(t,u):\n",
    "    return f_ex(*u)\n",
    "\n",
    "\n",
    "myivp = ivp.IVP(f=f_vec,u0=np.array(IC),T=T)\n",
    "\n",
    "t_rk3, y = rk3(myivp,dt=dt)\n",
    "y = np.array(y)\n",
    "y_rk3 = y[:,0]"
   ]
  },
  {
   "cell_type": "code",
   "execution_count": null,
   "metadata": {},
   "outputs": [],
   "source": [
    "plt.figure(figsize=(16,12))\n",
    "\n",
    "plt.plot(t_rk3,y_rk3,'o')\n",
    "for i in range(2,6):\n",
    "    plt.plot(tt[i],yy[i][0,:],'--')\n",
    "\n",
    "plt.legend(['RK3']+['$O(h^'+str(p)+')$' for p in range(2,6)],fontsize=20)"
   ]
  },
  {
   "cell_type": "markdown",
   "metadata": {},
   "source": [
    "We can see that each successive correction gives a solution that is accurate to later times than the one previous.  Notice that in this case, although the exact solution is periodic, the numerical solution is gradually damped, and this behavior is captured by the more accurate versions of the modified equations."
   ]
  }
 ],
 "metadata": {
  "kernelspec": {
   "display_name": "Python 3",
   "language": "python",
   "name": "python3"
  },
  "language_info": {
   "codemirror_mode": {
    "name": "ipython",
    "version": 3
   },
   "file_extension": ".py",
   "mimetype": "text/x-python",
   "name": "python",
   "nbconvert_exporter": "python",
   "pygments_lexer": "ipython3",
   "version": "3.9.5"
  },
  "toc": {
   "base_numbering": 1,
   "nav_menu": {},
   "number_sections": true,
   "sideBar": true,
   "skip_h1_title": false,
   "title_cell": "Table of Contents",
   "title_sidebar": "Contents",
   "toc_cell": false,
   "toc_position": {},
   "toc_section_display": true,
   "toc_window_display": false
  }
 },
 "nbformat": 4,
 "nbformat_minor": 2
}
